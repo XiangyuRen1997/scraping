{
 "cells": [
  {
   "cell_type": "code",
   "execution_count": 1,
   "id": "0513dee4",
   "metadata": {},
   "outputs": [],
   "source": [
    "import json \n",
    "\n",
    "# data manipulation\n",
    "import pandas as pd \n",
    "\n",
    "# normalize nested JSON files\n",
    "from pandas.io.json import json_normalize\n",
    "import os\n",
    "import requests\n",
    "from urllib.parse import urljoin\n",
    "from bs4 import BeautifulSoup\n"
   ]
  },
  {
   "cell_type": "code",
   "execution_count": 2,
   "id": "b20de7fd",
   "metadata": {},
   "outputs": [],
   "source": [
    "\n",
    "json_file_path = \"OKU-fact-sheets-out.json\"\n",
    "with open(json_file_path, 'r') as json_file:\n",
    "    \n",
    "    data = json.load(json_file)"
   ]
  },
  {
   "cell_type": "code",
   "execution_count": 3,
   "id": "ef5ac38c",
   "metadata": {},
   "outputs": [],
   "source": [
    "links = [x['link'] for x in data]\n"
   ]
  },
  {
   "cell_type": "code",
   "execution_count": null,
   "id": "3cff7b91",
   "metadata": {},
   "outputs": [],
   "source": [
    "for i in links:\n",
    "    url = i\n",
    "\n",
    "    response = requests.get(url)\n",
    "    soup= BeautifulSoup(response.text, \"html.parser\")     \n",
    "    for link in soup.select(\"#main-content > div > div > div > div > div.share_button_container > a\"):\n",
    "        print(f\"https://extension.okstate.edu/{link['href']}\")"
   ]
  }
 ],
 "metadata": {
  "kernelspec": {
   "display_name": "Python 3 (ipykernel)",
   "language": "python",
   "name": "python3"
  },
  "language_info": {
   "codemirror_mode": {
    "name": "ipython",
    "version": 3
   },
   "file_extension": ".py",
   "mimetype": "text/x-python",
   "name": "python",
   "nbconvert_exporter": "python",
   "pygments_lexer": "ipython3",
   "version": "3.9.7"
  }
 },
 "nbformat": 4,
 "nbformat_minor": 5
}
